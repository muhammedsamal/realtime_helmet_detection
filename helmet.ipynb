{
 "cells": [
  {
   "cell_type": "code",
   "execution_count": 1,
   "id": "338ae3d4",
   "metadata": {},
   "outputs": [],
   "source": [
    "from tensorflow.keras.preprocessing.image import ImageDataGenerator\n",
    "from tensorflow.keras.preprocessing import image\n",
    "from tensorflow.keras.optimizers import RMSprop\n",
    "import matplotlib.pyplot as plt\n",
    "import tensorflow as tf\n",
    "import cv2\n",
    "import os\n",
    "import numpy as np"
   ]
  },
  {
   "cell_type": "code",
   "execution_count": 8,
   "id": "f11c7306",
   "metadata": {},
   "outputs": [
    {
     "ename": "FileExistsError",
     "evalue": "[WinError 183] Cannot create a file when that file already exists: 'train/no_helmet/11.jpg' -> 'train/no_helmet/2.jpg'",
     "output_type": "error",
     "traceback": [
      "\u001b[1;31m---------------------------------------------------------------------------\u001b[0m",
      "\u001b[1;31mFileExistsError\u001b[0m                           Traceback (most recent call last)",
      "\u001b[1;32m~\\AppData\\Local\\Temp\\ipykernel_14716\\3430418611.py\u001b[0m in \u001b[0;36m<module>\u001b[1;34m\u001b[0m\n\u001b[0;32m      6\u001b[0m     \u001b[0mmy_source\u001b[0m \u001b[1;33m=\u001b[0m \u001b[0mpath\u001b[0m \u001b[1;33m+\u001b[0m \u001b[0mfile\u001b[0m\u001b[1;33m\u001b[0m\u001b[1;33m\u001b[0m\u001b[0m\n\u001b[0;32m      7\u001b[0m     \u001b[0mmy_dest\u001b[0m \u001b[1;33m=\u001b[0m \u001b[0mpath\u001b[0m \u001b[1;33m+\u001b[0m \u001b[0mmy_dest\u001b[0m\u001b[1;33m\u001b[0m\u001b[1;33m\u001b[0m\u001b[0m\n\u001b[1;32m----> 8\u001b[1;33m     \u001b[0mos\u001b[0m\u001b[1;33m.\u001b[0m\u001b[0mrename\u001b[0m\u001b[1;33m(\u001b[0m\u001b[0mmy_source\u001b[0m\u001b[1;33m,\u001b[0m \u001b[0mmy_dest\u001b[0m\u001b[1;33m)\u001b[0m\u001b[1;33m\u001b[0m\u001b[1;33m\u001b[0m\u001b[0m\n\u001b[0m\u001b[0;32m      9\u001b[0m     \u001b[0mi\u001b[0m \u001b[1;33m+=\u001b[0m \u001b[1;36m1\u001b[0m\u001b[1;33m\u001b[0m\u001b[1;33m\u001b[0m\u001b[0m\n",
      "\u001b[1;31mFileExistsError\u001b[0m: [WinError 183] Cannot create a file when that file already exists: 'train/no_helmet/11.jpg' -> 'train/no_helmet/2.jpg'"
     ]
    }
   ],
   "source": [
    "# # rename files\n",
    "# path = 'train/no_helmet/'\n",
    "# i=0\n",
    "# for file in os.listdir(path):\n",
    "#     my_dest = str(i) + \".jpg\"\n",
    "#     my_source = path + file\n",
    "#     my_dest = path + my_dest\n",
    "#     os.rename(my_source, my_dest)\n",
    "#     i += 1"
   ]
  },
  {
   "cell_type": "code",
   "execution_count": 9,
   "id": "4538815a",
   "metadata": {},
   "outputs": [
    {
     "name": "stdout",
     "output_type": "stream",
     "text": [
      "0.jpg\n",
      "1.jpg\n",
      "11.jpg\n",
      "2.jpg\n",
      "3.jpg\n",
      "4.jpg\n",
      "5.jpg\n",
      "6.jpg\n",
      "7.jpg\n"
     ]
    }
   ],
   "source": [
    "for file in os.listdir(path):\n",
    "    print(file)"
   ]
  },
  {
   "cell_type": "code",
   "execution_count": 4,
   "id": "e110696e",
   "metadata": {},
   "outputs": [
    {
     "data": {
      "text/plain": [
       "(2531, 3375, 3)"
      ]
     },
     "execution_count": 4,
     "metadata": {},
     "output_type": "execute_result"
    }
   ],
   "source": [
    "cv2.imread('train/helmet/1.jpg').shape"
   ]
  },
  {
   "cell_type": "code",
   "execution_count": 12,
   "id": "cc5df939",
   "metadata": {},
   "outputs": [
    {
     "data": {
      "text/plain": [
       "array([[[194, 194, 194],\n",
       "        [194, 194, 194],\n",
       "        [194, 194, 194],\n",
       "        ...,\n",
       "        [174, 174, 174],\n",
       "        [174, 174, 174],\n",
       "        [174, 174, 174]],\n",
       "\n",
       "       [[194, 194, 194],\n",
       "        [194, 194, 194],\n",
       "        [194, 194, 194],\n",
       "        ...,\n",
       "        [174, 174, 174],\n",
       "        [174, 174, 174],\n",
       "        [174, 174, 174]],\n",
       "\n",
       "       [[194, 194, 194],\n",
       "        [194, 194, 194],\n",
       "        [194, 194, 194],\n",
       "        ...,\n",
       "        [174, 174, 174],\n",
       "        [174, 174, 174],\n",
       "        [174, 174, 174]],\n",
       "\n",
       "       ...,\n",
       "\n",
       "       [[181, 181, 181],\n",
       "        [181, 181, 181],\n",
       "        [181, 181, 181],\n",
       "        ...,\n",
       "        [168, 168, 168],\n",
       "        [168, 168, 168],\n",
       "        [168, 168, 168]],\n",
       "\n",
       "       [[180, 180, 180],\n",
       "        [180, 180, 180],\n",
       "        [180, 180, 180],\n",
       "        ...,\n",
       "        [168, 168, 168],\n",
       "        [168, 168, 168],\n",
       "        [168, 168, 168]],\n",
       "\n",
       "       [[178, 178, 178],\n",
       "        [178, 178, 178],\n",
       "        [178, 178, 178],\n",
       "        ...,\n",
       "        [168, 168, 168],\n",
       "        [168, 168, 168],\n",
       "        [168, 168, 168]]], dtype=uint8)"
      ]
     },
     "execution_count": 12,
     "metadata": {},
     "output_type": "execute_result"
    }
   ],
   "source": [
    "cv2.imread('train/helmet/1.jpg')"
   ]
  },
  {
   "cell_type": "code",
   "execution_count": 3,
   "id": "c0beb8d6",
   "metadata": {},
   "outputs": [],
   "source": [
    "train = ImageDataGenerator(rescale=1/194)\n",
    "validation = ImageDataGenerator(rescale=1/194)"
   ]
  },
  {
   "cell_type": "code",
   "execution_count": 4,
   "id": "90ace861",
   "metadata": {},
   "outputs": [
    {
     "name": "stdout",
     "output_type": "stream",
     "text": [
      "Found 21 images belonging to 2 classes.\n",
      "Found 8 images belonging to 2 classes.\n"
     ]
    }
   ],
   "source": [
    "train_dataset = train.flow_from_directory('train/', target_size=(330, 250), batch_size=3, class_mode='binary')\n",
    "\n",
    "validation_dataset = validation.flow_from_directory('validate/', target_size=(330, 250), batch_size=3, class_mode='binary')"
   ]
  },
  {
   "cell_type": "code",
   "execution_count": 5,
   "id": "9858ddf9",
   "metadata": {},
   "outputs": [
    {
     "data": {
      "text/plain": [
       "{'helmet': 0, 'no_helmet': 1}"
      ]
     },
     "execution_count": 5,
     "metadata": {},
     "output_type": "execute_result"
    }
   ],
   "source": [
    "train_dataset.class_indices"
   ]
  },
  {
   "cell_type": "code",
   "execution_count": 6,
   "id": "8499f689",
   "metadata": {},
   "outputs": [],
   "source": [
    "model = tf.keras.models.Sequential([ tf.keras.layers.Conv2D(16,(3,3), activation = 'relu', input_shape=(330, 250, 3)),\n",
    "                                    tf.keras.layers.MaxPool2D(2,2),\n",
    "                                   # \n",
    "                                    tf.keras.layers.Conv2D(32,(3,3), activation = 'relu'),\n",
    "                                    tf.keras.layers.MaxPool2D(2,2),\n",
    "                                    #\n",
    "                                    tf.keras.layers.Conv2D(64,(3,3), activation = 'relu'),\n",
    "                                    tf.keras.layers.MaxPool2D(2,2),\n",
    "                                    #\n",
    "                                    tf.keras.layers.Flatten(),\n",
    "                                    #\n",
    "                                    tf.keras.layers.Dense(512, activation = 'relu'),\n",
    "                                    #\n",
    "                                    tf.keras.layers.Dense(1, activation = 'sigmoid')\n",
    "                                   ])"
   ]
  },
  {
   "cell_type": "code",
   "execution_count": 7,
   "id": "001cb3c9",
   "metadata": {},
   "outputs": [],
   "source": [
    "model.compile(loss='binary_crossentropy',\n",
    "             optimizer = RMSprop(learning_rate=0.001),\n",
    "             metrics=['accuracy'])"
   ]
  },
  {
   "cell_type": "code",
   "execution_count": 8,
   "id": "cefc6630",
   "metadata": {},
   "outputs": [
    {
     "name": "stdout",
     "output_type": "stream",
     "text": [
      "Epoch 1/20\n",
      "3/3 [==============================] - 5s 1s/step - loss: 7.7936 - accuracy: 0.5556 - val_loss: 0.7607 - val_accuracy: 0.5000\n",
      "Epoch 2/20\n",
      "3/3 [==============================] - 2s 929ms/step - loss: 0.8076 - accuracy: 0.7778 - val_loss: 1.1802 - val_accuracy: 0.5000\n",
      "Epoch 3/20\n",
      "3/3 [==============================] - 2s 868ms/step - loss: 1.3087 - accuracy: 0.4444 - val_loss: 0.6200 - val_accuracy: 0.5000\n",
      "Epoch 4/20\n",
      "3/3 [==============================] - 2s 915ms/step - loss: 0.4764 - accuracy: 0.6667 - val_loss: 0.6777 - val_accuracy: 0.6250\n",
      "Epoch 5/20\n",
      "3/3 [==============================] - 2s 937ms/step - loss: 0.6561 - accuracy: 0.6667 - val_loss: 0.5050 - val_accuracy: 0.8750\n",
      "Epoch 6/20\n",
      "3/3 [==============================] - 2s 971ms/step - loss: 0.1810 - accuracy: 1.0000 - val_loss: 0.4153 - val_accuracy: 0.8750\n",
      "Epoch 7/20\n",
      "3/3 [==============================] - 2s 887ms/step - loss: 0.0532 - accuracy: 1.0000 - val_loss: 0.5510 - val_accuracy: 0.8750\n",
      "Epoch 8/20\n",
      "3/3 [==============================] - 2s 893ms/step - loss: 0.0147 - accuracy: 1.0000 - val_loss: 0.5747 - val_accuracy: 0.8750\n",
      "Epoch 9/20\n",
      "3/3 [==============================] - 2s 887ms/step - loss: 0.0567 - accuracy: 1.0000 - val_loss: 2.5664 - val_accuracy: 0.5000\n",
      "Epoch 10/20\n",
      "3/3 [==============================] - 3s 982ms/step - loss: 0.7703 - accuracy: 0.6667 - val_loss: 0.4703 - val_accuracy: 0.8750\n",
      "Epoch 11/20\n",
      "3/3 [==============================] - 2s 977ms/step - loss: 0.0373 - accuracy: 1.0000 - val_loss: 0.6408 - val_accuracy: 0.8750\n",
      "Epoch 12/20\n",
      "3/3 [==============================] - 3s 986ms/step - loss: 0.0134 - accuracy: 1.0000 - val_loss: 0.7323 - val_accuracy: 0.8750\n",
      "Epoch 13/20\n",
      "3/3 [==============================] - 2s 910ms/step - loss: 0.0034 - accuracy: 1.0000 - val_loss: 0.7832 - val_accuracy: 0.8750\n",
      "Epoch 14/20\n",
      "3/3 [==============================] - 2s 955ms/step - loss: 0.0041 - accuracy: 1.0000 - val_loss: 0.8452 - val_accuracy: 0.8750\n",
      "Epoch 15/20\n",
      "3/3 [==============================] - 3s 1000ms/step - loss: 0.0021 - accuracy: 1.0000 - val_loss: 0.8461 - val_accuracy: 0.8750\n",
      "Epoch 16/20\n",
      "3/3 [==============================] - 2s 1s/step - loss: 0.0035 - accuracy: 1.0000 - val_loss: 0.9588 - val_accuracy: 0.8750\n",
      "Epoch 17/20\n",
      "3/3 [==============================] - 2s 917ms/step - loss: 6.7190e-04 - accuracy: 1.0000 - val_loss: 0.9883 - val_accuracy: 0.8750\n",
      "Epoch 18/20\n",
      "3/3 [==============================] - 2s 940ms/step - loss: 6.2546e-04 - accuracy: 1.0000 - val_loss: 0.9512 - val_accuracy: 0.8750\n",
      "Epoch 19/20\n",
      "3/3 [==============================] - 2s 901ms/step - loss: 0.0010 - accuracy: 1.0000 - val_loss: 1.0772 - val_accuracy: 0.8750\n",
      "Epoch 20/20\n",
      "3/3 [==============================] - 2s 927ms/step - loss: 9.1395e-04 - accuracy: 1.0000 - val_loss: 1.1084 - val_accuracy: 0.8750\n"
     ]
    }
   ],
   "source": [
    "model_fit = model.fit(train_dataset,\n",
    "                     steps_per_epoch = 3,\n",
    "                     epochs= 20,\n",
    "                     validation_data = validation_dataset)"
   ]
  },
  {
   "cell_type": "code",
   "execution_count": 9,
   "id": "d4311d41",
   "metadata": {},
   "outputs": [
    {
     "ename": "NameError",
     "evalue": "name 'os' is not defined",
     "output_type": "error",
     "traceback": [
      "\u001b[1;31m---------------------------------------------------------------------------\u001b[0m",
      "\u001b[1;31mNameError\u001b[0m                                 Traceback (most recent call last)",
      "\u001b[1;32m~\\AppData\\Local\\Temp\\ipykernel_26568\\3265191749.py\u001b[0m in \u001b[0;36m<module>\u001b[1;34m\u001b[0m\n\u001b[0;32m      1\u001b[0m \u001b[0mdir_path\u001b[0m \u001b[1;33m=\u001b[0m \u001b[1;34m'test/'\u001b[0m\u001b[1;33m\u001b[0m\u001b[1;33m\u001b[0m\u001b[0m\n\u001b[0;32m      2\u001b[0m \u001b[1;33m\u001b[0m\u001b[0m\n\u001b[1;32m----> 3\u001b[1;33m \u001b[1;32mfor\u001b[0m \u001b[0mi\u001b[0m \u001b[1;32min\u001b[0m \u001b[0mos\u001b[0m\u001b[1;33m.\u001b[0m\u001b[0mlistdir\u001b[0m\u001b[1;33m(\u001b[0m\u001b[0mdir_path\u001b[0m\u001b[1;33m)\u001b[0m\u001b[1;33m:\u001b[0m\u001b[1;33m\u001b[0m\u001b[1;33m\u001b[0m\u001b[0m\n\u001b[0m\u001b[0;32m      4\u001b[0m     \u001b[0mimg\u001b[0m \u001b[1;33m=\u001b[0m \u001b[0mimage\u001b[0m\u001b[1;33m.\u001b[0m\u001b[0mload_img\u001b[0m\u001b[1;33m(\u001b[0m\u001b[0mdir_path\u001b[0m\u001b[1;33m+\u001b[0m\u001b[0mi\u001b[0m\u001b[1;33m,\u001b[0m \u001b[0mtarget_size\u001b[0m\u001b[1;33m=\u001b[0m\u001b[1;33m(\u001b[0m\u001b[1;36m330\u001b[0m\u001b[1;33m,\u001b[0m \u001b[1;36m250\u001b[0m\u001b[1;33m,\u001b[0m \u001b[1;36m3\u001b[0m\u001b[1;33m)\u001b[0m\u001b[1;33m)\u001b[0m\u001b[1;33m\u001b[0m\u001b[1;33m\u001b[0m\u001b[0m\n\u001b[0;32m      5\u001b[0m     \u001b[0mplt\u001b[0m\u001b[1;33m.\u001b[0m\u001b[0mimshow\u001b[0m\u001b[1;33m(\u001b[0m\u001b[0mimg\u001b[0m\u001b[1;33m)\u001b[0m\u001b[1;33m\u001b[0m\u001b[1;33m\u001b[0m\u001b[0m\n",
      "\u001b[1;31mNameError\u001b[0m: name 'os' is not defined"
     ]
    }
   ],
   "source": [
    "dir_path = 'test/'\n",
    "\n",
    "for i in os.listdir(dir_path):\n",
    "    img = image.load_img(dir_path+i, target_size=(330, 250, 3))\n",
    "    plt.imshow(img)\n",
    "    plt.show()\n",
    "    \n",
    "    X = image.img_to_array(img)\n",
    "    X = np.expand_dims(X, axis=0)\n",
    "    images = np.vstack([X])\n",
    "    \n",
    "    val = model.predict(images)\n",
    "    if val == 0:\n",
    "        print('helmet')\n",
    "    else:\n",
    "        print('no helmet')\n",
    "    "
   ]
  },
  {
   "cell_type": "code",
   "execution_count": null,
   "id": "e38f4fc7",
   "metadata": {},
   "outputs": [],
   "source": []
  }
 ],
 "metadata": {
  "kernelspec": {
   "display_name": "Python 3 (ipykernel)",
   "language": "python",
   "name": "python3"
  },
  "language_info": {
   "codemirror_mode": {
    "name": "ipython",
    "version": 3
   },
   "file_extension": ".py",
   "mimetype": "text/x-python",
   "name": "python",
   "nbconvert_exporter": "python",
   "pygments_lexer": "ipython3",
   "version": "3.9.13"
  }
 },
 "nbformat": 4,
 "nbformat_minor": 5
}
